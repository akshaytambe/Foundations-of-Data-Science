{
 "cells": [
  {
   "cell_type": "code",
   "execution_count": 1,
   "metadata": {
    "collapsed": true
   },
   "outputs": [],
   "source": [
    "'''\n",
    "The core data type in Numpy is the ndarray, which enables fast and space-efficient \n",
    "multidimensional array processing.\n",
    "Note: This notebook is adapted from chapter 4 Python for Data Analysis by Wes McKinney \n",
    "and O'Reilly publishing. \n",
    "NumPy has many, many features that won't be covered here. \n",
    "The following snippets are just to illustrate basic data types and operations within numpy.\n",
    "\n",
    "Another good resource for learning more about ndarrays is here:\n",
    "http://docs.scipy.org/doc/numpy/reference/arrays.html\n",
    "'''\n",
    "\n",
    "#First, import NumPy\n",
    "#import numpy imports the numpy module under the np namespace, \n",
    "#so you would need to call objects within numpy using np.foo\n",
    "#good reference: http://docs.python-guide.org/en/latest/writing/structure/#modules\n",
    "#\"from numpy import *\" imports all objects from the numpy module into your current namespace, \n",
    "#so you would call objects within numpy using only foo. \n",
    "import numpy as np\n",
    "\n",
    "#It is easy to create Nx1 and NxM arrays from standard Python lists\n",
    "l1 = [0,1,2]\n",
    "l2 = [3,4,5]\n",
    "\n",
    "nd1 = np.array(l1)\n",
    "nd2 = np.array([l1,  l2])\n"
   ]
  },
  {
   "cell_type": "code",
   "execution_count": 2,
   "metadata": {},
   "outputs": [
    {
     "name": "stdout",
     "output_type": "stream",
     "text": [
      "The ndarray has dimension n=3 and m=1\n",
      "The ndarray has elements of type=int64\n",
      "The ndarray has dimension n=2 and m=3\n",
      "The ndarray has elements of type=int64\n"
     ]
    }
   ],
   "source": [
    "#Now, we can get ask for some basic info to describe the ndarray\n",
    "def desc_ndarray(nd):\n",
    "    try:\n",
    "        print(\"The ndarray has dimension n=%s and m=%s\" % (nd.shape[0],nd.shape[1]))\n",
    "    except:\n",
    "        print(\"The ndarray has dimension n=%s and m=1\" % nd.shape[0])\n",
    "    print(\"The ndarray has elements of type=%s\" % nd.dtype)\n",
    "\n",
    "desc_ndarray(nd1)\n",
    "\n",
    "desc_ndarray(nd2)\n",
    "\n"
   ]
  },
  {
   "cell_type": "code",
   "execution_count": null,
   "metadata": {
    "collapsed": true
   },
   "outputs": [],
   "source": [
    "#There are short cuts for creating certain frequently used special ndarrays, i.e.,\n",
    "\n",
    "k=4\n",
    "\n",
    "#1. an ndarray of all zeros\n",
    "zero = np.zeros(k)\n",
    "\n",
    "#2. an ndarray of all ones\n",
    "one = np.ones(k)\n",
    "\n",
    "#3. an ndarray of random elements (this one is standard normal, but there are many distributions to choose from)\n",
    "rand = np.random.randn(k)\n",
    "\n",
    "[zero, one, rand]"
   ]
  },
  {
   "cell_type": "code",
   "execution_count": null,
   "metadata": {
    "collapsed": true
   },
   "outputs": [],
   "source": [
    "'''\n",
    "For indexing an array:\n",
    "1. If nx1 array, follow the same protocol as a regular Python list\n",
    "2. If nxm array use the following examples\n",
    "'''\n",
    "\n",
    "arr2d = np.random.randn(4,2)\n",
    "arr1d = np.random.randn(2,1)\n",
    "#A single index gets a full row\n",
    "arr1d[1]\n",
    "#2 indexes returns a value\n",
    "#[arr2d, arr2d[1],  arr2d[1,1]]"
   ]
  },
  {
   "cell_type": "code",
   "execution_count": null,
   "metadata": {
    "collapsed": true
   },
   "outputs": [],
   "source": [
    "'''\n",
    "Operations between Arrays and Scalars\n",
    "An important feature of ndarrays is they allow batch operations on data without writing \n",
    "any for loops.  This is called vectorization.\n",
    "Any arithmetic operations between equal-size arrays applies the operation elementwise. \n",
    "'''\n",
    "\n",
    "#examples\n",
    "\n",
    "k = 4\n",
    "rand = np.random.randn(k)\n",
    "[rand, rand + rand, 2*rand, rand*np.zeros(4)]\n",
    "\n"
   ]
  },
  {
   "cell_type": "code",
   "execution_count": null,
   "metadata": {
    "collapsed": true
   },
   "outputs": [],
   "source": [
    "'''\n",
    "Matrix operations\n",
    "It is easy to do matrix operations with Nd arrays. \n",
    "It is important to make sure matrix shapes are compatible, then standard addition, subtraction,\n",
    "multiplication and division work.\n",
    "'''\n",
    "\n",
    "k = 3\n",
    "r1 = np.random.randn(k)\n",
    "r2 = np.random.randn(k)\n",
    "\n",
    "#Matrix addition is the standard matrix operator\n",
    "[r1, r2 , r1 + r2]\n"
   ]
  },
  {
   "cell_type": "code",
   "execution_count": null,
   "metadata": {
    "collapsed": true
   },
   "outputs": [],
   "source": [
    "#The Transpose can be taken with the attribute T\n",
    "arr2d = np.array([r1, r2])\n",
    "[arr2d, arr2d.T]"
   ]
  },
  {
   "cell_type": "code",
   "execution_count": null,
   "metadata": {
    "collapsed": true
   },
   "outputs": [],
   "source": [
    "'''\n",
    "Matrix multiplication, like inner products can be done on arrays.\n",
    "Just remember that the standard multiplication operator does elementwise multiplication \n",
    "(provided they are the same shape).\n",
    "We need the dot method in order to do an inner product\n",
    "\n",
    "Numpy has a linalg library that can run most matrix operations on ndarrays:\n",
    "http://docs.scipy.org/doc/numpy/reference/routines.linalg.html\n",
    "\n",
    "One can also create a matrix object and use the methods in numpy.matrix to achieve the \n",
    "same thing:\n",
    "http://docs.scipy.org/doc/numpy/reference/generated/numpy.matrix.html\n",
    "'''\n",
    "\n",
    "[arr2d, arr2d * arr2d, arr2d.dot(arr2d.T)]"
   ]
  },
  {
   "cell_type": "code",
   "execution_count": null,
   "metadata": {
    "collapsed": true
   },
   "outputs": [],
   "source": [
    "'''\n",
    "One important feature of vectorization is that it allows elementwise processing that is \n",
    "much faster than writing a traditional loop.\n",
    "'''\n",
    "import math\n",
    "\n",
    "#show an example and profile i\n",
    "%timeit [math.sqrt(x) for x in range(1000)]"
   ]
  },
  {
   "cell_type": "code",
   "execution_count": null,
   "metadata": {
    "collapsed": true
   },
   "outputs": [],
   "source": [
    "%timeit np.sqrt(np.arange(1000))"
   ]
  },
  {
   "cell_type": "code",
   "execution_count": null,
   "metadata": {
    "collapsed": true
   },
   "outputs": [],
   "source": []
  },
  {
   "cell_type": "code",
   "execution_count": null,
   "metadata": {
    "collapsed": true
   },
   "outputs": [],
   "source": [
    "'''\n",
    "The last thing we'll cover in this module is the numpy.random library. In general, it is \n",
    "advised to use numpy for random number generation as opposed to python's built in random module.\n",
    "\n",
    "Random number generation has many uses. One common use is generating fake (i.e. random) data to test modeling procedures\n",
    "or to do Monte Carlo Simulations\n",
    "'''\n",
    "import matplotlib.pyplot as plt\n"
   ]
  },
  {
   "cell_type": "code",
   "execution_count": null,
   "metadata": {
    "collapsed": true
   },
   "outputs": [],
   "source": [
    "#Generate random pairs that have a multivariate normal distribution\n",
    "N = 1000 #Number of pairs of points\n",
    "mu = np.array([0,0]) #mean\n",
    "cov = 0.5\n",
    "sig = np.array([[1, cov],[cov, 1]]) #covariance matrix must be square, symmetric and non-negative definite"
   ]
  },
  {
   "cell_type": "code",
   "execution_count": null,
   "metadata": {
    "collapsed": true
   },
   "outputs": [],
   "source": [
    "#unpacking the x and y elements from the array transpose\n",
    "x, y = np.random.multivariate_normal(mu, sig, N).T"
   ]
  },
  {
   "cell_type": "code",
   "execution_count": null,
   "metadata": {
    "collapsed": true,
    "scrolled": true
   },
   "outputs": [],
   "source": [
    "\n",
    "#Now let's plot and see what that looks like\n",
    "\n",
    "\n",
    "plt.plot(x, y,'x'); plt.axis('equal'); plt.show()\n",
    "\n"
   ]
  },
  {
   "cell_type": "code",
   "execution_count": null,
   "metadata": {
    "collapsed": true
   },
   "outputs": [],
   "source": []
  },
  {
   "cell_type": "code",
   "execution_count": null,
   "metadata": {
    "collapsed": true
   },
   "outputs": [],
   "source": []
  },
  {
   "cell_type": "code",
   "execution_count": null,
   "metadata": {
    "collapsed": true
   },
   "outputs": [],
   "source": []
  }
 ],
 "metadata": {
  "kernelspec": {
   "display_name": "Python 3",
   "language": "python",
   "name": "python3"
  },
  "language_info": {
   "codemirror_mode": {
    "name": "ipython",
    "version": 3
   },
   "file_extension": ".py",
   "mimetype": "text/x-python",
   "name": "python",
   "nbconvert_exporter": "python",
   "pygments_lexer": "ipython3",
   "version": "3.6.3"
  }
 },
 "nbformat": 4,
 "nbformat_minor": 1
}
